{
 "cells": [
  {
   "cell_type": "code",
   "execution_count": 1,
   "id": "2773015c",
   "metadata": {},
   "outputs": [],
   "source": [
    "import numpy as np\n",
    "\n",
    "# --- model (constant intensities) ---\n",
    "sigma = 0.2\n",
    "mu = 0.0\n",
    "a = mu - 0.5*sigma**2          # drift in y-PDE\n",
    "lam1_hat, lam2_hat = 0.18, 0.12\n",
    "eta = np.array([8.0, 6.0])\n",
    "delta = np.array([0.02, 0.03])\n",
    "\n",
    "# --- grid in y ---\n",
    "y_max, M = 0.8, 600\n",
    "y = np.linspace(0.0, y_max, M+1)\n",
    "Dy = y[1] - y[0]\n",
    "\n",
    "m_delta = np.ceil(delta / Dy).astype(int)\n",
    "Eshoot = [np.exp(-eta[j] * np.maximum(y - delta[j], 0.0)) for j in (0,1)]\n",
    "\n",
    "def solve_tridiag(sub, diag, sup, rhs):\n",
    "    sub = sub.copy(); diag = diag.copy(); sup = sup.copy(); d = rhs.copy()\n",
    "    for m in range(1, M+1):\n",
    "        w = sub[m] / diag[m-1]\n",
    "        diag[m] -= w * sup[m-1]\n",
    "        d[m]    -= w * d[m-1]\n",
    "    x = np.empty_like(d)\n",
    "    x[M] = d[M] / diag[M]\n",
    "    for m in range(M-1, -1, -1):\n",
    "        x[m] = (d[m] - sup[m] * x[m+1]) / diag[m]\n",
    "    return x\n",
    "\n",
    "def build_y_LHS(dt, sink_diag, dtype):\n",
    "    c2 = 0.5 * sigma**2\n",
    "    sub = (-dt * (c2 / Dy**2 - a / Dy)) * np.ones(M+1, dtype=dtype)\n",
    "    sup = (-dt * (c2 / Dy**2)) * np.ones(M+1, dtype=dtype)\n",
    "    diag = (1.0 + dt*(2*c2 / Dy**2)) * np.ones(M+1, dtype=dtype)\n",
    "    diag += sink_diag\n",
    "    # Dirichlet BCs\n",
    "    diag[0] = 1.0; sub[0] = 0.0; sup[0] = 0.0\n",
    "    diag[-1] = 1.0; sub[-1] = 0.0; sup[-1] = 0.0\n",
    "    return sub, diag, sup\n",
    "\n",
    "def update_g_implicit_y(f, j):\n",
    "    \"\"\"Backward-Euler in y: g'(y)=eta*(f(y-δ)_+-g). Works for complex f.\"\"\"\n",
    "    gj = np.zeros_like(f)\n",
    "    md = m_delta[j]\n",
    "    ej = eta[j]\n",
    "    c = ej*Dy\n",
    "    if md == 0:\n",
    "        gj[0] = (c * f[0]) / (1.0 + c)\n",
    "        for m in range(1, M+1):\n",
    "            gj[m] = (gj[m-1] + c * f[m]) / (1.0 + c)\n",
    "    else:\n",
    "        gj[md] = (c * f[0]) / (1.0 + c)\n",
    "        for m in range(md+1, M+1):\n",
    "            gj[m] = (gj[m-1] + c * f[m - md]) / (1.0 + c)\n",
    "    return gj\n",
    "\n",
    "def solve_LT_at_q(qc, max_outer=200, tol=1e-11, inner_max=20, inner_tol=1e-12):\n",
    "    \"\"\"\n",
    "    Solve for f(y; q=qc) with backward-implicit scheme.\n",
    "    qc can be complex (Talbot needs this). Returns complex array f(y).\n",
    "    \"\"\"\n",
    "    dtype = np.complex128 if np.iscomplexobj(qc) or getattr(qc, 'imag', 0.0) != 0.0 else np.float64\n",
    "    lam_sum = lam1_hat + lam2_hat\n",
    "    # choose a conservative dt based on sink scale\n",
    "    dt = min(0.9/(abs(qc)+lam_sum), 0.5)\n",
    "    sink_diag = dt * (qc + lam_sum) * np.ones(M+1, dtype=dtype)\n",
    "\n",
    "    sub, diag, sup = build_y_LHS(dt, sink_diag, dtype=dtype)\n",
    "\n",
    "    f = np.zeros(M+1, dtype=dtype); f[0] = 1.0; f[-1] = 0.0\n",
    "    E1 = np.asarray(Eshoot[0], dtype=dtype)\n",
    "    E2 = np.asarray(Eshoot[1], dtype=dtype)\n",
    "\n",
    "    for it in range(max_outer):\n",
    "        f_old = f.copy()\n",
    "        # inner Picard for g^{n+1}(f^{n+1})\n",
    "        for inner in range(inner_max):\n",
    "            g1 = update_g_implicit_y(f, 0)\n",
    "            g2 = update_g_implicit_y(f, 1)\n",
    "            rhs = f_old + dt*( lam1_hat*(g1 + E1) + lam2_hat*(g2 + E2) )\n",
    "            rhs[0] = 1.0; rhs[-1] = 0.0\n",
    "            f_new = solve_tridiag(sub, diag, sup, rhs)\n",
    "            f_new[0] = 1.0; f_new[-1] = 0.0\n",
    "            if np.max(np.abs(f_new - f)) < inner_tol:\n",
    "                f = f_new\n",
    "                break\n",
    "            f = f_new\n",
    "        err = np.max(np.abs(f - f_old))\n",
    "        if err < tol:\n",
    "            break\n",
    "    return f\n"
   ]
  },
  {
   "cell_type": "code",
   "execution_count": 2,
   "id": "6fcf6922",
   "metadata": {},
   "outputs": [],
   "source": [
    "def talbot_nodes_weights(T, N=32):\n",
    "    \"\"\"\n",
    "    Classic Talbot nodes/weights for inverting F(T) = L^{-1}[Phi(s)](T).\n",
    "    Returns s_k (complex) and w_k (complex) such that\n",
    "       F(T) ≈ Re( sum_k w_k * Phi(s_k) )\n",
    "    \"\"\"\n",
    "    k = np.arange(1, N+1, dtype=float)\n",
    "    theta = (k - 0.5) * np.pi / N\n",
    "    # contour and derivative\n",
    "    z = theta / np.tan(theta) + 1j * theta             # dimensionless\n",
    "    dz_dtheta = -theta / (np.sin(theta)**2) + 1/np.tan(theta) + 1j\n",
    "    s = (N / T) * z\n",
    "    ds_dtheta = (N / T) * dz_dtheta\n",
    "    # trapezoidal weight factor\n",
    "    dtheta = np.pi / N\n",
    "    w = (np.exp(s * T) * ds_dtheta * dtheta) / (2j * np.pi)\n",
    "    return s, w\n",
    "\n",
    "def F_cdf_talbot(T, phi_over_q, N=32):\n",
    "    \"\"\"\n",
    "    Talbot inversion for F(T) given function phi_over_q(s) = phi(s)/s.\n",
    "    Returns scalar F(T).\n",
    "    \"\"\"\n",
    "    s, w = talbot_nodes_weights(T, N=N)\n",
    "    vals = phi_over_q(s)                  # complex array\n",
    "    return np.real(np.sum(w * vals))\n",
    "\n",
    "# convenience: vectorized over T and y-grid\n",
    "def cdf_talbot_on_mesh(T_vals, y_vals, N=32):\n",
    "    \"\"\"\n",
    "    Returns CDF array of shape (len(y_vals), len(T_vals)).\n",
    "    Uses PDE to evaluate phi(s;y) at Talbot nodes s and forms F(T;y).\n",
    "    \"\"\"\n",
    "    T_vals = np.asarray(T_vals, float)\n",
    "    y_vals = np.asarray(y_vals, float)\n",
    "    # map y to grid indices\n",
    "    m_idx = np.minimum(np.maximum((y_vals / Dy).round().astype(int), 0), M)\n",
    "\n",
    "    # cache solutions across s to avoid repeated solves if T repeats nodes (we don't reuse here per T)\n",
    "    F = np.zeros((len(y_vals), len(T_vals)), float)\n",
    "\n",
    "    for jT, T in enumerate(T_vals):\n",
    "        s_nodes, w_nodes = talbot_nodes_weights(T, N=N)\n",
    "\n",
    "        # solve PDE at each complex s, grab f(y;s); accumulate weighted sum\n",
    "        accum = np.zeros(len(y_vals), dtype=np.complex128)\n",
    "        for sk, wk in zip(s_nodes, w_nodes):\n",
    "            # phi(s) = E[e^{-s tau}] = f(y; q=s)\n",
    "            f_s = solve_LT_at_q(sk)         # complex array over y grid\n",
    "            phi_over_q_vals = f_s[m_idx] / sk\n",
    "            accum += wk * phi_over_q_vals\n",
    "\n",
    "        F[:, jT] = np.real(accum)\n",
    "        # numerical hygiene\n",
    "        F[:, jT] = np.clip(F[:, jT], 0.0, 1.0)\n",
    "\n",
    "    return F\n"
   ]
  },
  {
   "cell_type": "code",
   "execution_count": 21,
   "id": "76af6ebb",
   "metadata": {},
   "outputs": [
    {
     "name": "stdout",
     "output_type": "stream",
     "text": [
      "P(τ<=0.5 | y=0.2) = 1.0\n"
     ]
    }
   ],
   "source": [
    "# y and T meshes\n",
    "y_vals = np.linspace(0.01, 0.5, 5)\n",
    "T_vals = np.linspace(0.01, 1, 10)\n",
    "\n",
    "F_mesh = cdf_talbot_on_mesh(T_vals, y_vals, N=32)   # N=32..64 typical\n",
    "\n",
    "# example readouts\n",
    "iy = np.argmin(abs(y_vals - 0.20))\n",
    "iT = np.argmin(abs(T_vals - 0.50))\n",
    "print(\"P(τ<=0.5 | y=0.2) =\", F_mesh[iy, iT])"
   ]
  },
  {
   "cell_type": "code",
   "execution_count": 16,
   "id": "095cbe63",
   "metadata": {},
   "outputs": [
    {
     "name": "stdout",
     "output_type": "stream",
     "text": [
      "P(τ<=0.34 | y=0.40) = 0.16228449419900667\n"
     ]
    }
   ],
   "source": [
    "# example readouts\n",
    "y = 0.4\n",
    "T = 0.34\n",
    "iy = np.argmin(abs(y_vals - y))\n",
    "iT = np.argmin(abs(T_vals - T))\n",
    "print(f\"P(τ<={T:.2f} | y={y:.2f}) =\", F_mesh[iy, iT])"
   ]
  },
  {
   "cell_type": "code",
   "execution_count": 20,
   "id": "77eeb0be",
   "metadata": {},
   "outputs": [
    {
     "data": {
      "text/plain": [
       "array([0.94423964, 0.00760386])"
      ]
     },
     "execution_count": 20,
     "metadata": {},
     "output_type": "execute_result"
    }
   ],
   "source": [
    "F_mesh[:, 1]"
   ]
  }
 ],
 "metadata": {
  "kernelspec": {
   "display_name": "py310",
   "language": "python",
   "name": "python3"
  },
  "language_info": {
   "codemirror_mode": {
    "name": "ipython",
    "version": 3
   },
   "file_extension": ".py",
   "mimetype": "text/x-python",
   "name": "python",
   "nbconvert_exporter": "python",
   "pygments_lexer": "ipython3",
   "version": "3.10.4"
  }
 },
 "nbformat": 4,
 "nbformat_minor": 5
}
